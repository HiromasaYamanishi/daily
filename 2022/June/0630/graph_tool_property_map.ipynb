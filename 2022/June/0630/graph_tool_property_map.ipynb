{
 "cells": [
  {
   "cell_type": "code",
   "execution_count": 2,
   "metadata": {},
   "outputs": [],
   "source": [
    "from graph_tool.all import *\n",
    "from numpy.random import randint\n",
    "g=Graph()\n",
    "g.add_vertex(100)\n",
    "for s,t in zip(randint(0,100,100),randint(0,100,100)):\n",
    "    g.add_edge(g.vertex(s), g.vertex(t))\n",
    "\n",
    "vprop_double=g.new_vertex_property(\"double\")\n",
    "v=g.vertex(10)\n",
    "vprop_double[v]=3.1416\n",
    "\n",
    "vprop_vint=g.new_vertex_property(\"vector<int>\")\n",
    "v=g.vertex(40)\n",
    "vprop_vint[v]=[1,3,42,54]\n",
    "\n",
    "eprop_dict = g.new_edge_property(\"object\")\n",
    "e=g.edges().next()\n",
    "eprop_dict[e] = {\"foo\":\"bar\",\"gnu\":42}\n",
    "\n",
    "gprop_bool=g.new_graph_property(\"bool\")\n",
    "gprop_bool[g]=True\n"
   ]
  },
  {
   "cell_type": "code",
   "execution_count": 4,
   "metadata": {},
   "outputs": [
    {
     "data": {
      "text/plain": [
       "PropertyArray([0.27785533, 0.46751489, 0.97160363, 0.26460045, 0.95911779,\n",
       "               0.90982158, 0.48265604, 0.51392922, 0.7113323 , 0.32983332,\n",
       "               0.21666257, 0.82453303, 0.59821953, 0.09249378, 0.43446724,\n",
       "               0.07244035, 0.51926218, 0.59677822, 0.14796691, 0.1327262 ,\n",
       "               0.34119006, 0.98046476, 0.06001676, 0.08137249, 0.64340955,\n",
       "               0.39042215, 0.00245706, 0.32258928, 0.15033395, 0.16800391,\n",
       "               0.91303452, 0.89437229, 0.78850302, 0.84693925, 0.4968991 ,\n",
       "               0.35806191, 0.79876297, 0.95117647, 0.05392068, 0.85271859,\n",
       "               0.92508895, 0.85129706, 0.08464992, 0.25782721, 0.07522011,\n",
       "               0.67712355, 0.39748343, 0.43418   , 0.99090895, 0.41345437,\n",
       "               0.66946361, 0.31431946, 0.71011007, 0.85608736, 0.87187153,\n",
       "               0.44541737, 0.17522173, 0.24423198, 0.87899926, 0.37857703,\n",
       "               0.77525686, 0.99987686, 0.62791964, 0.96271338, 0.07326945,\n",
       "               0.23045852, 0.78932156, 0.81400535, 0.87510801, 0.61603222,\n",
       "               0.89275342, 0.17059557, 0.9524112 , 0.48732421, 0.52397554,\n",
       "               0.93686234, 0.96581144, 0.61154357, 0.89198387, 0.39523248,\n",
       "               0.81367382, 0.76241111, 0.23655475, 0.54170221, 0.69091695,\n",
       "               0.50943499, 0.75676528, 0.13395394, 0.03911762, 0.68782063,\n",
       "               0.99355116, 0.52404   , 0.98975294, 0.99086855, 0.65164453,\n",
       "               0.18095034, 0.46449744, 0.94769773, 0.34501271, 0.11416541])"
      ]
     },
     "execution_count": 4,
     "metadata": {},
     "output_type": "execute_result"
    }
   ],
   "source": [
    "from numpy.random import random\n",
    "vprop_double.get_array()[:]= random(g.num_vertices())\n",
    "\n",
    "vprop_double.a=random(g.num_vertices())\n",
    "vprop_double.a"
   ]
  },
  {
   "cell_type": "code",
   "execution_count": 6,
   "metadata": {},
   "outputs": [
    {
     "name": "stdout",
     "output_type": "stream",
     "text": [
      "some name      (edge)    (type: string)\n"
     ]
    }
   ],
   "source": [
    "#Internal property maps\n",
    "\n",
    "eprop = g.new_edge_property(\"string\")\n",
    "g.edge_properties[\"some name\"]=eprop\n",
    "g.list_properties()"
   ]
  },
  {
   "cell_type": "code",
   "execution_count": 7,
   "metadata": {},
   "outputs": [
    {
     "name": "stdout",
     "output_type": "stream",
     "text": [
      "42\n"
     ]
    }
   ],
   "source": [
    "gprop = g.new_graph_property(\"int\")\n",
    "g.graph_properties[\"foo\"]=gprop\n",
    "g.graph_properties[\"foo\"]=42\n",
    "print(g.graph_properties[\"foo\"])"
   ]
  },
  {
   "cell_type": "code",
   "execution_count": 8,
   "metadata": {},
   "outputs": [],
   "source": [
    "del g.graph_properties[\"foo\"]"
   ]
  },
  {
   "cell_type": "code",
   "execution_count": 9,
   "metadata": {},
   "outputs": [
    {
     "name": "stdout",
     "output_type": "stream",
     "text": [
      "3.14\n"
     ]
    }
   ],
   "source": [
    "vprop = g.new_vertex_property(\"double\")\n",
    "g.vp.foo=vprop\n",
    "g.vp.foo[v]=3.14\n",
    "print(g.vp.foo[v])"
   ]
  },
  {
   "cell_type": "code",
   "execution_count": 12,
   "metadata": {},
   "outputs": [],
   "source": [
    "#Graph I/O\n",
    "#Graphs can be saved and loaded in four formats: graphml, dot, gml and a custom binary format gt (see The gt file format).\n",
    "\n",
    "g = Graph()\n",
    "g.save(\"my_graph.xml.gz\")\n",
    "#g2=load_graph(\"my_graph.xml.gx\")"
   ]
  },
  {
   "cell_type": "code",
   "execution_count": 14,
   "metadata": {},
   "outputs": [],
   "source": [
    "g2=load_graph(\"my_graph.xml.gz\")"
   ]
  },
  {
   "cell_type": "code",
   "execution_count": 17,
   "metadata": {},
   "outputs": [
    {
     "name": "stdout",
     "output_type": "stream",
     "text": [
      "vertex 36063 in_degree 0 out_degree 1 age 36063\n",
      "vertex 9075 in_degree 4 out_degree 1 age 9075\n",
      "vertex 5967 in_degree 3 out_degree 1 age 5967\n",
      "vertex 1113 in_degree 7 out_degree 1 age 1113\n",
      "vertex 25 in_degree 84 out_degree 1 age 25\n",
      "vertex 10 in_degree 541 out_degree 1 age 10\n",
      "vertex 5 in_degree 140 out_degree 1 age 5\n",
      "vertex 2 in_degree 459 out_degree 1 age 2\n",
      "vertex 1 in_degree 520 out_degree 1 age 1\n",
      "vertex 0 in_degree 210 out_degree 0 age 0\n",
      "Nowhere else to go... We found the main hub\n"
     ]
    }
   ],
   "source": [
    "from __future__ import division , absolute_import, print_function\n",
    "import sys\n",
    "if sys.version_info < (3,):\n",
    "    range=xrange\n",
    "\n",
    "import os\n",
    "from pylab import *\n",
    "from numpy.random import *\n",
    "seed(42)\n",
    "from graph_tool.all import *\n",
    "g=Graph()\n",
    "v_age=g.new_vertex_property(\"int\")\n",
    "e_age=g.new_edge_property(\"int\")\n",
    "\n",
    "N=100000\n",
    "v=g.add_vertex()\n",
    "v_age[v]=0\n",
    "\n",
    "vlist=[v]\n",
    "\n",
    "for i in range(1,N):\n",
    "    v=g.add_vertex()\n",
    "    v_age[v]=i\n",
    "    i = randint(0,len(vlist))\n",
    "    target=vlist[i]\n",
    "    e=g.add_edge(v,target)\n",
    "    e_age[e]=i\n",
    "    vlist.append(target)\n",
    "    vlist.append(v)\n",
    "\n",
    "v = g.vertex(randint(0,g.num_vertices()))\n",
    "\n",
    "while True:\n",
    "    print(\"vertex\",int(v),\"in_degree\",v.in_degree(),\"out_degree\",\n",
    "    v.out_degree(),\"age\",v_age[v])\n",
    "\n",
    "    if v.out_degree()==0:\n",
    "        print(\"Nowhere else to go... We found the main hub\")\n",
    "        break\n",
    "\n",
    "    n_list=[]\n",
    "    for w in v.out_neighbors():\n",
    "        n_list.append(w)\n",
    "\n",
    "    v = n_list[randint(0, len(n_list))]\n",
    "\n",
    "g.vertex_properties[\"age\"]=v_age\n",
    "g.edge_properties[\"age\"]=e_age\n",
    "\n",
    "\n"
   ]
  },
  {
   "cell_type": "code",
   "execution_count": 18,
   "metadata": {},
   "outputs": [],
   "source": [
    "g.save(\"price.xml.gz\")"
   ]
  },
  {
   "cell_type": "code",
   "execution_count": 19,
   "metadata": {},
   "outputs": [
    {
     "data": {
      "image/png": "[encoded data removed]",
      "text/plain": [
       "<Figure size 432x288 with 1 Axes>"
      ]
     },
     "metadata": {
      "needs_background": "light"
     },
     "output_type": "display_data"
    }
   ],
   "source": [
    "in_hist=vertex_hist(g,\"in\")\n",
    "y=in_hist[0]\n",
    "err = sqrt(in_hist[0])\n",
    "err[err>=y]=y[err>=y]-1e-2\n",
    "\n",
    "figure(figsize=(6,4))\n",
    "errorbar(in_hist[1][:-1], in_hist[0], fmt=\"o\", yerr=err,\n",
    "        label=\"in\")\n",
    "gca().set_yscale(\"log\")\n",
    "gca().set_xscale(\"log\")\n",
    "gca().set_ylim(1e-1, 1e5)\n",
    "gca().set_xlim(0.8, 1e3)\n",
    "subplots_adjust(left=0.2, bottom=0.2)\n",
    "xlabel(\"$k_{in}$\")\n",
    "ylabel(\"$NP(k_{in})$\")\n",
    "tight_layout()\n",
    "savefig(\"price-deg-dist.pdf\")\n",
    "savefig(\"price-deg-dist.svg\")\n"
   ]
  },
  {
   "cell_type": "code",
   "execution_count": 3,
   "metadata": {},
   "outputs": [
    {
     "data": {
      "text/plain": [
       "<VertexPropertyMap object with value type 'vector<double>', for Graph 0x7f38c1d1d3c0, at 0x7f39841fc7c0>"
      ]
     },
     "execution_count": 3,
     "metadata": {},
     "output_type": "execute_result"
    }
   ],
   "source": [
    "from graph_tool.all import *\n",
    "import matplotlib\n",
    "g=load_graph(\"price.xml.gz\")\n",
    "age=g.vertex_properties[\"age\"]\n",
    "\n",
    "pos=sfdp_layout(g)\n",
    "graph_draw(g, pos, output_size=(100, 100), vertex_color=[1,1,1,0],\n",
    "           vertex_fill_color=age, vertex_size=1, edge_pen_width=1.2,\n",
    "           vcmap=matplotlib.cm.gist_heat_r,output=\"price.pdf\")"
   ]
  },
  {
   "cell_type": "code",
   "execution_count": null,
   "metadata": {},
   "outputs": [],
   "source": []
  }
 ],
 "metadata": {
  "kernelspec": {
   "display_name": "Python 3.10.5",
   "language": "python",
   "name": "python3"
  },
  "language_info": {
   "codemirror_mode": {
    "name": "ipython",
    "version": 3
   },
   "file_extension": ".py",
   "mimetype": "text/x-python",
   "name": "python",
   "nbconvert_exporter": "python",
   "pygments_lexer": "ipython3",
   "version": "3.10.5"
  },
  "orig_nbformat": 4,
  "vscode": {
   "interpreter": {
    "hash": "e4c1e72fd7988450e9a2607f0e14cc59e054bd72ce10c7130a653f466b43a6e8"
   }
  }
 },
 "nbformat": 4,
 "nbformat_minor": 2
}
