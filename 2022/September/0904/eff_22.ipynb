{
 "cells": [
  {
   "cell_type": "code",
   "execution_count": 4,
   "metadata": {},
   "outputs": [
    {
     "name": "stdout",
     "output_type": "stream",
     "text": [
      "My numbers are :1 2\n",
      "Hi there\n"
     ]
    }
   ],
   "source": [
    "#22 可変長引数は*を使う\n",
    "def log(message, *values):\n",
    "    if not values:\n",
    "        print(message)\n",
    "\n",
    "    else:\n",
    "        values_str = ' '.join(str(x) for x in values)\n",
    "        print(f'{message} :{values_str}')\n",
    "\n",
    "log('My numbers are', 1, 2)\n",
    "log('Hi there')"
   ]
  },
  {
   "cell_type": "code",
   "execution_count": 5,
   "metadata": {},
   "outputs": [],
   "source": [
    "#問題1：引数が全てタプルに変換されるためメモリを大量に使う恐れがある\n",
    "#問題2：すべての呼び出し元を修正しないと新たな位置引数を追加できない"
   ]
  },
  {
   "cell_type": "code",
   "execution_count": 6,
   "metadata": {},
   "outputs": [],
   "source": [
    "#23 キーワード引数にオプションの振る舞いを与える\n",
    "def remainder(number, divisor):\n",
    "    return number%divisor\n",
    "\n",
    "assert remainder(20,7)==6"
   ]
  },
  {
   "cell_type": "code",
   "execution_count": 9,
   "metadata": {},
   "outputs": [],
   "source": [
    "my_kwargs = {\n",
    "    'number':20,\n",
    "    'divisor':7\n",
    "}\n",
    "assert remainder(**my_kwargs)==6"
   ]
  },
  {
   "cell_type": "code",
   "execution_count": 7,
   "metadata": {},
   "outputs": [],
   "source": [
    "my_kwargs = {\n",
    "    'divisor':7\n",
    "}\n",
    "assert remainder(number=20, **my_kwargs)==6"
   ]
  },
  {
   "cell_type": "code",
   "execution_count": 10,
   "metadata": {},
   "outputs": [],
   "source": [
    "my_kwargs = {\n",
    "    'number':20\n",
    "}\n",
    "other_kwargs = {\n",
    "    'divisor':7\n",
    "}\n",
    "assert remainder(**my_kwargs, **other_kwargs)==6"
   ]
  },
  {
   "cell_type": "code",
   "execution_count": 11,
   "metadata": {},
   "outputs": [
    {
     "name": "stdout",
     "output_type": "stream",
     "text": [
      "alpha=1.5\n",
      "beta=9\n",
      "gamma=4\n"
     ]
    }
   ],
   "source": [
    "def print_parameter(**kwargs):\n",
    "    for key, value in kwargs.items():\n",
    "        print(f'{key}={value}')\n",
    "\n",
    "print_parameter(alpha=1.5, beta=9, gamma=4)"
   ]
  },
  {
   "cell_type": "code",
   "execution_count": 12,
   "metadata": {},
   "outputs": [
    {
     "data": {
      "text/plain": [
       "330.0"
      ]
     },
     "execution_count": 12,
     "metadata": {},
     "output_type": "execute_result"
    }
   ],
   "source": [
    "#キーワード引数の利点\n",
    "#1 関数呼び出しを初めて読む人にとってわかりやすくなる\n",
    "#2 関数定義においてデフォルト値を持つ\n",
    "\n",
    "#オプションの引数はキーワード名を使って指定し位置引数を使わない\n",
    "\n",
    "def flow_rate(weight_diff, time_diff, period=1, units_per_kg=1):\n",
    "    return ((weight_diff * units_per_kg)/time_diff)\n",
    "\n",
    "\n",
    "weight_diff = 300\n",
    "time_diff = 2\n",
    "flow_rate(weight_diff, time_diff, period=3600, units_per_kg = 2.2)"
   ]
  },
  {
   "cell_type": "code",
   "execution_count": 15,
   "metadata": {},
   "outputs": [
    {
     "name": "stdout",
     "output_type": "stream",
     "text": [
      "2022-09-04 09:21:38.662327: Hi there!\n",
      "2022-09-04 09:21:38.662327: Hi agein\n"
     ]
    }
   ],
   "source": [
    "#24 動的なデフォルト引数を指定するときにはNoneとdocstringを使う\n",
    "\n",
    "from time import sleep\n",
    "from datetime import datetime\n",
    "\n",
    "def log(message, when = datetime.now()):\n",
    "    print(f'{when}: {message}')\n",
    "\n",
    "log('Hi there!')\n",
    "sleep(1)\n",
    "log('Hi agein')"
   ]
  },
  {
   "cell_type": "code",
   "execution_count": 16,
   "metadata": {},
   "outputs": [],
   "source": [
    "#動的にする\n",
    "def log(message, when =None):\n",
    "    if when is None:\n",
    "        when = datetime.now()\n",
    "\n",
    "    print(f'{when}:{message}')"
   ]
  },
  {
   "cell_type": "code",
   "execution_count": 19,
   "metadata": {},
   "outputs": [
    {
     "name": "stdout",
     "output_type": "stream",
     "text": [
      "2022-09-04 09:23:32.396701:Hi there!\n",
      "2022-09-04 09:23:32.497208:Hi there agein!\n"
     ]
    }
   ],
   "source": [
    "log('Hi there!')\n",
    "sleep(0.1)\n",
    "log('Hi there agein!')"
   ]
  },
  {
   "cell_type": "code",
   "execution_count": 20,
   "metadata": {},
   "outputs": [],
   "source": [
    "import json\n",
    "\n",
    "def decode(data, default={}):\n",
    "    try:\n",
    "        return json.loads(data)\n",
    "\n",
    "    except ValueError:\n",
    "        return default"
   ]
  },
  {
   "cell_type": "code",
   "execution_count": null,
   "metadata": {},
   "outputs": [],
   "source": []
  },
  {
   "cell_type": "code",
   "execution_count": 21,
   "metadata": {},
   "outputs": [
    {
     "name": "stdout",
     "output_type": "stream",
     "text": [
      "Foo: {'stuff': 5, 'meep': 1}\n",
      "Bar: {'stuff': 5, 'meep': 1}\n"
     ]
    }
   ],
   "source": [
    "foo = decode('bad data')\n",
    "foo['stuff'] = 5\n",
    "bar = decode('bad data')\n",
    "bar['meep']=1\n",
    "print('Foo:',foo)\n",
    "print('Bar:',bar)"
   ]
  },
  {
   "cell_type": "code",
   "execution_count": 22,
   "metadata": {},
   "outputs": [],
   "source": [
    "#引数をNoneにしてdocstringに振る舞いを書く\n",
    "\n",
    "def decode(data, default=None):\n",
    "    \"\"\"Load JSON data from a string.\n",
    "    \n",
    "    Args:\n",
    "        data: JSON data to decode.\n",
    "        default: Value to return if decoding fails.\n",
    "            Defaults to an empty dictionary\n",
    "    \"\"\"\n",
    "    try:\n",
    "        return json.loads(data)\n",
    "    except ValueError:\n",
    "        if default is None:\n",
    "            default = {}\n",
    "        return default"
   ]
  },
  {
   "cell_type": "code",
   "execution_count": 23,
   "metadata": {},
   "outputs": [
    {
     "name": "stdout",
     "output_type": "stream",
     "text": [
      "Foo: {'stuff': 5}\n",
      "Bar: {'meep': 1}\n"
     ]
    }
   ],
   "source": [
    "foo = decode('bad data')\n",
    "foo['stuff'] = 5\n",
    "bar = decode('bad data')\n",
    "bar['meep']=1\n",
    "print('Foo:',foo)\n",
    "print('Bar:',bar)\n",
    "assert foo is not bar"
   ]
  },
  {
   "cell_type": "code",
   "execution_count": 27,
   "metadata": {},
   "outputs": [],
   "source": [
    "from typing import Optional\n",
    "def log_typed(message: str, when: Optional[datetime]=None) -> None:\n",
    "    '''Log a message with a timestamp'''\n",
    "    if when is None:\n",
    "        when=datetime.now()\n",
    "    print(f'{when}: {message}')"
   ]
  },
  {
   "cell_type": "code",
   "execution_count": null,
   "metadata": {},
   "outputs": [],
   "source": []
  }
 ],
 "metadata": {
  "kernelspec": {
   "display_name": "Python 3.6.9 64-bit",
   "language": "python",
   "name": "python3"
  },
  "language_info": {
   "codemirror_mode": {
    "name": "ipython",
    "version": 3
   },
   "file_extension": ".py",
   "mimetype": "text/x-python",
   "name": "python",
   "nbconvert_exporter": "python",
   "pygments_lexer": "ipython3",
   "version": "3.6.9"
  },
  "orig_nbformat": 4,
  "vscode": {
   "interpreter": {
    "hash": "31f2aee4e71d21fbe5cf8b01ff0e069b9275f58929596ceb00d14d90e3e16cd6"
   }
  }
 },
 "nbformat": 4,
 "nbformat_minor": 2
}
