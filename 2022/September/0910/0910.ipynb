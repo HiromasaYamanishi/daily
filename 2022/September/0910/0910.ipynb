{
 "cells": [
  {
   "cell_type": "markdown",
   "metadata": {},
   "source": [
    "25キーワード専用引数と位置専用引数で明確さを高める"
   ]
  },
  {
   "cell_type": "code",
   "execution_count": 1,
   "metadata": {},
   "outputs": [
    {
     "name": "stdout",
     "output_type": "stream",
     "text": [
      "3.1428571429\n"
     ]
    }
   ],
   "source": [
    "#25キーワード専用引数と位置専用引数で明確さを高める\n",
    "\n",
    "def safe_division_e(numerator, denominator,/,ndigits=10,*,ignore_overflow=False,ignore_zero_division=False):\n",
    "    try:\n",
    "        fraction = numerator/denominator\n",
    "        return round(fraction, ndigits)\n",
    "    except OverflowError:\n",
    "        if ignore_overflow:\n",
    "            return 0\n",
    "        else:\n",
    "            raise\n",
    "    except ZeroDivisionError:\n",
    "        if ignore_zero_division:\n",
    "            return float('inf')\n",
    "        else:\n",
    "            raise\n",
    "\n",
    "result = safe_division_e(22,7)\n",
    "print(result)  "
   ]
  },
  {
   "cell_type": "code",
   "execution_count": 2,
   "metadata": {},
   "outputs": [
    {
     "name": "stdout",
     "output_type": "stream",
     "text": [
      "3.14286\n"
     ]
    }
   ],
   "source": [
    "result = safe_division_e(22,7,5)\n",
    "print(result)"
   ]
  },
  {
   "cell_type": "code",
   "execution_count": 3,
   "metadata": {},
   "outputs": [
    {
     "name": "stdout",
     "output_type": "stream",
     "text": [
      "3.14\n"
     ]
    }
   ],
   "source": [
    "result = safe_division_e(22,7,ndigits = 2)\n",
    "print(result)"
   ]
  },
  {
   "cell_type": "markdown",
   "metadata": {},
   "source": [
    "26 functools.wrapsを使って関数デコレータを定義する"
   ]
  },
  {
   "cell_type": "code",
   "execution_count": 6,
   "metadata": {},
   "outputs": [
    {
     "name": "stdout",
     "output_type": "stream",
     "text": [
      "fibonacci((0,), {})-> 0\n",
      "fibonacci((1,), {})-> 1\n",
      "fibonacci((2,), {})-> 1\n",
      "fibonacci((1,), {})-> 1\n",
      "fibonacci((0,), {})-> 0\n",
      "fibonacci((1,), {})-> 1\n",
      "fibonacci((2,), {})-> 1\n",
      "fibonacci((3,), {})-> 2\n",
      "fibonacci((4,), {})-> 3\n"
     ]
    },
    {
     "data": {
      "text/plain": [
       "3"
      ]
     },
     "execution_count": 6,
     "metadata": {},
     "output_type": "execute_result"
    }
   ],
   "source": [
    "#26 functools.wrapsを使って関数デコレータを定義する\n",
    "from functools import wraps\n",
    "def trace(func):\n",
    "    @wraps(func)\n",
    "    def wrapper(*args, **kwargs):\n",
    "        result =func(*args,**kwargs)\n",
    "        print(f'{func.__name__}({args!r}, {kwargs!r})'\n",
    "                f'-> {result!r}')\n",
    "\n",
    "        return result\n",
    "    return wrapper\n",
    "\n",
    "@trace\n",
    "def fibonacci(n):\n",
    "    '''return the n-th Fibonacci number'''\n",
    "    if n in (0,1):\n",
    "        return n\n",
    "    return (fibonacci(n-2)+fibonacci(n-1))\n",
    "\n",
    "fibonacci(4) "
   ]
  },
  {
   "cell_type": "code",
   "execution_count": 7,
   "metadata": {},
   "outputs": [
    {
     "name": "stdout",
     "output_type": "stream",
     "text": [
      "Help on function fibonacci in module __main__:\n",
      "\n",
      "fibonacci(n)\n",
      "    return the n-th Fibonacci number\n",
      "\n"
     ]
    }
   ],
   "source": [
    "help(fibonacci)"
   ]
  },
  {
   "cell_type": "code",
   "execution_count": 9,
   "metadata": {},
   "outputs": [
    {
     "name": "stdout",
     "output_type": "stream",
     "text": [
      "b'\\x80\\x04\\x95\\x1a\\x00\\x00\\x00\\x00\\x00\\x00\\x00\\x8c\\x08__main__\\x94\\x8c\\tfibonacci\\x94\\x93\\x94.'\n"
     ]
    }
   ],
   "source": [
    "import pickle\n",
    "print(pickle.dumps(fibonacci))"
   ]
  },
  {
   "cell_type": "markdown",
   "metadata": {},
   "source": [
    "第4章  内包表記とジェネレータ"
   ]
  },
  {
   "cell_type": "markdown",
   "metadata": {},
   "source": [
    "27 mapやfilterのかわりにリスト内法表記を使う"
   ]
  },
  {
   "cell_type": "code",
   "execution_count": 10,
   "metadata": {},
   "outputs": [],
   "source": [
    "a=[1,2,3,4,5,6,7,8,9,10]\n",
    "three_cubed_set ={x**3 for x in a if x%3==0}"
   ]
  },
  {
   "cell_type": "markdown",
   "metadata": {},
   "source": [
    "28内包表記では3つ以上の式を避ける"
   ]
  },
  {
   "cell_type": "markdown",
   "metadata": {},
   "source": [
    "29代入式を使い内包表記での繰り返し作業をなくす"
   ]
  },
  {
   "cell_type": "code",
   "execution_count": 13,
   "metadata": {},
   "outputs": [
    {
     "name": "stdout",
     "output_type": "stream",
     "text": [
      "{'screws': 4, 'wringnuts': 1}\n"
     ]
    }
   ],
   "source": [
    "stock = {\n",
    "    'nail,s':125,\n",
    "    \"screws\":35,\n",
    "    \"wringnuts\":8,\n",
    "    \"washers\":24,\n",
    "}\n",
    "\n",
    "order = [\"screws\",\"wringnuts\",\"clips\"]\n",
    "\n",
    "def get_batches(count, size):\n",
    "    return count//size\n",
    "\n",
    "found = {name: get_batches(stock.get(name,0), 8) for name in order if get_batches(stock.get(name,0),8)}\n",
    "print(found)"
   ]
  },
  {
   "cell_type": "code",
   "execution_count": 16,
   "metadata": {},
   "outputs": [
    {
     "data": {
      "text/plain": [
       "{'screws': 4, 'wringnuts': 1}"
      ]
     },
     "execution_count": 16,
     "metadata": {},
     "output_type": "execute_result"
    }
   ],
   "source": [
    "#代入式を使う\n",
    "found = {name: batches for name in order if (batches:= get_batches(stock.get(name,0),8))}\n",
    "found"
   ]
  },
  {
   "cell_type": "code",
   "execution_count": 17,
   "metadata": {},
   "outputs": [
    {
     "data": {
      "text/plain": [
       "{'nail,s': 12, 'screws': 3, 'washers': 2}"
      ]
     },
     "execution_count": 17,
     "metadata": {},
     "output_type": "execute_result"
    }
   ],
   "source": [
    "result = {name:tenth for name, count in stock.items() if (tenth:=count//10)>0}\n",
    "result"
   ]
  },
  {
   "cell_type": "code",
   "execution_count": 18,
   "metadata": {},
   "outputs": [
    {
     "name": "stdout",
     "output_type": "stream",
     "text": [
      "('screws', 4)\n",
      "('wringnuts', 1)\n"
     ]
    }
   ],
   "source": [
    "found = ((name, batches) for name in order if (batches:=get_batches(stock.get(name, 0),8)))\n",
    "print(next(found))\n",
    "print(next(found))"
   ]
  },
  {
   "cell_type": "markdown",
   "metadata": {},
   "source": [
    "30 リストを返さずにジェネレータを返すことを考える"
   ]
  },
  {
   "cell_type": "code",
   "execution_count": 20,
   "metadata": {},
   "outputs": [
    {
     "name": "stdout",
     "output_type": "stream",
     "text": [
      "0\n",
      "5\n"
     ]
    }
   ],
   "source": [
    "def index_words_iter(text):\n",
    "    if text:\n",
    "        yield 0\n",
    "    for index, letter in enumerate(text):\n",
    "        if letter == \" \":\n",
    "            yield index+1\n",
    "\n",
    "address = \"Four score and seven years ago...\"\n",
    "it = index_words_iter(address)\n",
    "print(next(it))\n",
    "print(next(it))"
   ]
  },
  {
   "cell_type": "code",
   "execution_count": 22,
   "metadata": {},
   "outputs": [
    {
     "data": {
      "text/plain": [
       "[0, 5, 11, 15, 21, 27]"
      ]
     },
     "execution_count": 22,
     "metadata": {},
     "output_type": "execute_result"
    }
   ],
   "source": [
    "result = list(index_words_iter(address))\n",
    "result"
   ]
  },
  {
   "cell_type": "code",
   "execution_count": null,
   "metadata": {},
   "outputs": [],
   "source": []
  }
 ],
 "metadata": {
  "kernelspec": {
   "display_name": "Python 3.10.5",
   "language": "python",
   "name": "python3"
  },
  "language_info": {
   "codemirror_mode": {
    "name": "ipython",
    "version": 3
   },
   "file_extension": ".py",
   "mimetype": "text/x-python",
   "name": "python",
   "nbconvert_exporter": "python",
   "pygments_lexer": "ipython3",
   "version": "3.10.5"
  },
  "orig_nbformat": 4,
  "vscode": {
   "interpreter": {
    "hash": "e4c1e72fd7988450e9a2607f0e14cc59e054bd72ce10c7130a653f466b43a6e8"
   }
  }
 },
 "nbformat": 4,
 "nbformat_minor": 2
}
