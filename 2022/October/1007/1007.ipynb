{
 "cells": [
  {
   "cell_type": "markdown",
   "metadata": {},
   "source": [
    "50 クラス属性に__set_name__で注釈を加える"
   ]
  },
  {
   "cell_type": "code",
   "execution_count": 2,
   "metadata": {},
   "outputs": [],
   "source": [
    "class Field:\n",
    "    def __init__(self, name):\n",
    "        self.name = name\n",
    "        self.internal_name = \"_\" + self.name\n",
    "\n",
    "    def __get__(self, instance, instance_type):\n",
    "        if instance is None:\n",
    "            return self\n",
    "        return getattr(instance, self.internal_name,  '')\n",
    "\n",
    "    def __set__(self, instance, value):\n",
    "        setattr(instance, self.internal_name, value)"
   ]
  },
  {
   "cell_type": "code",
   "execution_count": 6,
   "metadata": {},
   "outputs": [],
   "source": [
    "class Customer:\n",
    "    first_name = Field('first_name')\n",
    "    last_name = Field('last_name')\n",
    "    prefix = Field('prefix')\n",
    "    suffix = Field('suffix')"
   ]
  },
  {
   "cell_type": "code",
   "execution_count": 8,
   "metadata": {},
   "outputs": [
    {
     "name": "stdout",
     "output_type": "stream",
     "text": [
      "Before:'' {}\n",
      "After:'Euclid' {'_first_name': 'Euclid'}\n"
     ]
    }
   ],
   "source": [
    "cust = Customer()\n",
    "print(f'Before:{cust.first_name!r} {cust.__dict__}')\n",
    "cust.first_name = \"Euclid\"\n",
    "print(f'After:{cust.first_name!r} {cust.__dict__}')\n",
    "#クラス定義が冗長"
   ]
  },
  {
   "cell_type": "code",
   "execution_count": 17,
   "metadata": {},
   "outputs": [],
   "source": [
    "#冗長性をなくすため、メタクラスを使う\n",
    "class Meta(type):\n",
    "    def __new__(meta, name, bases, class_dict):\n",
    "        for key, value in class_dict.items():\n",
    "            if isinstance(value, Field):\n",
    "                value.name = key\n",
    "                value.internal_name = '_' + key\n",
    "        cls = type.__new__(meta, name, bases, class_dict)\n",
    "        return cls"
   ]
  },
  {
   "cell_type": "code",
   "execution_count": 18,
   "metadata": {},
   "outputs": [],
   "source": [
    "class DatabaseRow(object, metaclass = Meta):\n",
    "    pass\n",
    "\n",
    "class Field:\n",
    "    def __init__(self):\n",
    "        #ここはメタクラスで代入\n",
    "        self.name = None\n",
    "        self.internal_name = None\n",
    "\n",
    "    def __get__(self, instance, instance_type):\n",
    "        if instance is None:\n",
    "            return self\n",
    "        return getattr(instance, self.internal_name, '')\n",
    "\n",
    "    def __set__(self, instance, value):\n",
    "        setattr(instance, self.internal_name, value)\n",
    "\n"
   ]
  },
  {
   "cell_type": "code",
   "execution_count": 19,
   "metadata": {},
   "outputs": [],
   "source": [
    "class BetterCustomer(DatabaseRow):\n",
    "    first_name = Field()\n",
    "    last_name = Field()\n",
    "    prefix = Field()\n",
    "    suffix = Field()"
   ]
  },
  {
   "cell_type": "code",
   "execution_count": 20,
   "metadata": {},
   "outputs": [
    {
     "name": "stdout",
     "output_type": "stream",
     "text": [
      "Before: '' {}\n",
      "After; 'Euler' {'_first_name': 'Euler'}\n"
     ]
    }
   ],
   "source": [
    "cust = BetterCustomer()\n",
    "print(f'Before: {cust.first_name!r} {cust.__dict__}')\n",
    "cust.first_name = 'Euler'\n",
    "print(f'After; {cust.first_name!r} {cust.__dict__}')"
   ]
  },
  {
   "cell_type": "code",
   "execution_count": 29,
   "metadata": {},
   "outputs": [],
   "source": [
    "#__set_name__を使う\n",
    "class Field:\n",
    "    def __init__(self):\n",
    "        self.name = None\n",
    "        self.internal_name = None\n",
    "\n",
    "    def __set_name__(self, owner, name):\n",
    "        self.name = name\n",
    "        self.internal_name = '_' + name\n",
    "\n",
    "    def __get__(self, instance, instance_type):\n",
    "        if instance is None:\n",
    "            return self\n",
    "        return getattr(instance, self.internal_name, '')\n",
    "\n",
    "    def __set__(self, instance, value):\n",
    "        setattr(instance, self.internal_name, value)"
   ]
  },
  {
   "cell_type": "code",
   "execution_count": 30,
   "metadata": {},
   "outputs": [],
   "source": [
    "class FixedCustomer:\n",
    "    first_name = Field()\n",
    "    last_name = Field()\n",
    "    prefix = Field()\n",
    "    suffix = Field()"
   ]
  },
  {
   "cell_type": "code",
   "execution_count": 31,
   "metadata": {},
   "outputs": [
    {
     "name": "stdout",
     "output_type": "stream",
     "text": [
      "Before: '' {}\n",
      "After:  'Mersenne' {'_first_name': 'Mersenne'}\n"
     ]
    }
   ],
   "source": [
    "cust = FixedCustomer()\n",
    "print(f'Before: {cust.first_name!r} {cust.__dict__}')\n",
    "cust.first_name = 'Mersenne'\n",
    "print(f'After:  {cust.first_name!r} {cust.__dict__}')"
   ]
  },
  {
   "cell_type": "markdown",
   "metadata": {},
   "source": [
    "51 合成可能なクラス拡張のためにはメタクラスではなくクラスデコレータを使う"
   ]
  },
  {
   "cell_type": "code",
   "execution_count": 34,
   "metadata": {},
   "outputs": [],
   "source": [
    "from functools import wraps\n",
    "\n",
    "from regex import E\n",
    "def trace_func(func):\n",
    "    if hasattr(func, 'tracing'):\n",
    "        return func\n",
    "\n",
    "    @wraps(func)\n",
    "    def wrapper(*args, **kwargs):\n",
    "        result = None\n",
    "        try:\n",
    "            result = func(*args, **kwargs)\n",
    "            return result\n",
    "        except Exception as e:\n",
    "            result = e\n",
    "            raise \n",
    "        finally:\n",
    "            print(f'{func.__name__} ({args!r}, {kwargs!r} -> '\n",
    "                    f'{result!r}')\n",
    "    wrapper.tracing = True\n",
    "    return wrapper"
   ]
  },
  {
   "cell_type": "code",
   "execution_count": 35,
   "metadata": {},
   "outputs": [],
   "source": [
    "#新たなdictサブクラスのさまざまな特殊メソッドに, このデコレータを適用できる\n",
    "\n",
    "class TraceDict(dict):\n",
    "    @trace_func\n",
    "    def __init__(self, *args, **kwargs):\n",
    "        super().__init__(*args, **kwargs)\n",
    "\n",
    "    @trace_func\n",
    "    def __setitem__(self, *args, **kwargs):\n",
    "        return super().__setitem__(*args, **kwargs)\n",
    "\n",
    "    @trace_func\n",
    "    def __getitem__(self, *args, **kwargs):\n",
    "        return super().__getitem__(*args, **kwargs)"
   ]
  },
  {
   "cell_type": "code",
   "execution_count": 37,
   "metadata": {},
   "outputs": [
    {
     "name": "stdout",
     "output_type": "stream",
     "text": [
      "__init__ (({'hi': 1}, [('hi', 1)]), {} -> None\n",
      "__setitem__ (({'hi': 1, 'there': 2}, 'there', 2), {} -> None\n",
      "__getitem__ (({'hi': 1, 'there': 2}, 'hi'), {} -> 1\n",
      "__getitem__ (({'hi': 1, 'there': 2}, 'does not exist'), {} -> KeyError('does not exist')\n"
     ]
    }
   ],
   "source": [
    "trace_dict = TraceDict([('hi',1)])\n",
    "trace_dict['there'] = 2\n",
    "trace_dict['hi']\n",
    "try:\n",
    "    trace_dict['does not exist']\n",
    "except KeyError:\n",
    "    pass"
   ]
  },
  {
   "cell_type": "code",
   "execution_count": 41,
   "metadata": {},
   "outputs": [],
   "source": [
    "#メタクラスを使ってクラスのメソッドをすべて自動的にデコレートする\n",
    "import types\n",
    "trace_types = (\n",
    "    types.MethodType,\n",
    "    types.FunctionType,\n",
    "    types.BuiltinFunctionType,\n",
    "    types.MethodDescriptorType,\n",
    "    types.ClassMethodDescriptorType\n",
    ")\n",
    "\n",
    "class TraceMeta(type):\n",
    "    def __new__(meta, name, bases, class_dict):\n",
    "        klass = super().__new__(meta, name, bases, class_dict)\n",
    "\n",
    "        for key in dir(klass):\n",
    "            value = getattr(klass, key)\n",
    "            if isinstance(value, trace_types):\n",
    "                wrapped = trace_func(value)\n",
    "                setattr(klass, key, wrapped)\n",
    "        return klass"
   ]
  },
  {
   "cell_type": "code",
   "execution_count": 42,
   "metadata": {},
   "outputs": [
    {
     "name": "stdout",
     "output_type": "stream",
     "text": [
      "__new__ ((<class '__main__.TraceDict'>, [('hi', 1)]), {} -> {}\n",
      "__getitem__ (({'hi': 1, 'there': 2}, 'hi'), {} -> 1\n",
      "__getitem__ (({'hi': 1, 'there': 2}, 'does not exist'), {} -> KeyError('does not exist')\n"
     ]
    }
   ],
   "source": [
    "class TraceDict(dict, metaclass = TraceMeta):\n",
    "    pass\n",
    "\n",
    "trace_dict = TraceDict([('hi', 1)])\n",
    "trace_dict['there'] = 2\n",
    "trace_dict['hi']\n",
    "try:\n",
    "    trace_dict['does not exist']\n",
    "except KeyError:\n",
    "    pass"
   ]
  },
  {
   "cell_type": "code",
   "execution_count": null,
   "metadata": {},
   "outputs": [],
   "source": [
    "class SimpleDict(dict, metaclass = TraceMeta):\n",
    "    pass\n",
    "\n",
    "class TraceDict(SimpleDict, metaclass = TraceMeta):\n",
    "    pass\n",
    "\n",
    "trace_dict = TraceDict([('hi',1)])\n",
    "trace_dict['there'] = 2\n",
    "trace_dict['hi']\n",
    "try:\n",
    "    trace_dict['does not exists']\n",
    "except KeyError:\n",
    "    pass"
   ]
  }
 ],
 "metadata": {
  "kernelspec": {
   "display_name": "Python 3.7.13 ('study_group')",
   "language": "python",
   "name": "python3"
  },
  "language_info": {
   "codemirror_mode": {
    "name": "ipython",
    "version": 3
   },
   "file_extension": ".py",
   "mimetype": "text/x-python",
   "name": "python",
   "nbconvert_exporter": "python",
   "pygments_lexer": "ipython3",
   "version": "3.7.13"
  },
  "orig_nbformat": 4,
  "vscode": {
   "interpreter": {
    "hash": "7a865c41608e708ace9ed6e40a66ff8f45d4fe73a2fce76e3bb9141e87d20f44"
   }
  }
 },
 "nbformat": 4,
 "nbformat_minor": 2
}
