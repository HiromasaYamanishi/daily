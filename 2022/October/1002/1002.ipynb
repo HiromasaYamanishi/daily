{
 "cells": [
  {
   "cell_type": "markdown",
   "metadata": {},
   "source": [
    "42 プライベートな属性よりパブリックな属性が好ましい"
   ]
  },
  {
   "cell_type": "code",
   "execution_count": 4,
   "metadata": {},
   "outputs": [],
   "source": [
    "class MyObject:\n",
    "    def __init__(self):\n",
    "        self.public_field = 5\n",
    "        self.__private_field = 10\n",
    "\n",
    "    def get_private_field(self):\n",
    "        return self.__private_field"
   ]
  },
  {
   "cell_type": "code",
   "execution_count": 5,
   "metadata": {},
   "outputs": [],
   "source": [
    "foo = MyObject()\n",
    "assert foo.public_field==5"
   ]
  },
  {
   "cell_type": "code",
   "execution_count": 6,
   "metadata": {},
   "outputs": [
    {
     "ename": "AttributeError",
     "evalue": "'MyObject' object has no attribute '__private_field'",
     "output_type": "error",
     "traceback": [
      "\u001b[0;31m---------------------------------------------------------------------------\u001b[0m",
      "\u001b[0;31mAttributeError\u001b[0m                            Traceback (most recent call last)",
      "\u001b[0;32m/tmp/ipykernel_1668066/2542819391.py\u001b[0m in \u001b[0;36m<module>\u001b[0;34m\u001b[0m\n\u001b[0;32m----> 1\u001b[0;31m \u001b[0mfoo\u001b[0m\u001b[0;34m.\u001b[0m\u001b[0m__private_field\u001b[0m\u001b[0;34m\u001b[0m\u001b[0;34m\u001b[0m\u001b[0m\n\u001b[0m",
      "\u001b[0;31mAttributeError\u001b[0m: 'MyObject' object has no attribute '__private_field'"
     ]
    }
   ],
   "source": [
    "foo.__private_field"
   ]
  },
  {
   "cell_type": "code",
   "execution_count": 7,
   "metadata": {},
   "outputs": [],
   "source": [
    "assert foo.get_private_field()==10"
   ]
  },
  {
   "cell_type": "code",
   "execution_count": 8,
   "metadata": {},
   "outputs": [
    {
     "ename": "AttributeError",
     "evalue": "'MyChildObject' object has no attribute '_MyChildObject__private_field'",
     "output_type": "error",
     "traceback": [
      "\u001b[0;31m---------------------------------------------------------------------------\u001b[0m",
      "\u001b[0;31mAttributeError\u001b[0m                            Traceback (most recent call last)",
      "\u001b[0;32m/tmp/ipykernel_1668066/2619324904.py\u001b[0m in \u001b[0;36m<module>\u001b[0;34m\u001b[0m\n\u001b[1;32m      8\u001b[0m \u001b[0;34m\u001b[0m\u001b[0m\n\u001b[1;32m      9\u001b[0m \u001b[0mbaz\u001b[0m \u001b[0;34m=\u001b[0m \u001b[0mMyChildObject\u001b[0m\u001b[0;34m(\u001b[0m\u001b[0;34m)\u001b[0m\u001b[0;34m\u001b[0m\u001b[0;34m\u001b[0m\u001b[0m\n\u001b[0;32m---> 10\u001b[0;31m \u001b[0mbaz\u001b[0m\u001b[0;34m.\u001b[0m\u001b[0mget_private_field\u001b[0m\u001b[0;34m(\u001b[0m\u001b[0;34m)\u001b[0m\u001b[0;34m\u001b[0m\u001b[0;34m\u001b[0m\u001b[0m\n\u001b[0m",
      "\u001b[0;32m/tmp/ipykernel_1668066/2619324904.py\u001b[0m in \u001b[0;36mget_private_field\u001b[0;34m(self)\u001b[0m\n\u001b[1;32m      5\u001b[0m \u001b[0;32mclass\u001b[0m \u001b[0mMyChildObject\u001b[0m\u001b[0;34m(\u001b[0m\u001b[0mMyParentObject\u001b[0m\u001b[0;34m)\u001b[0m\u001b[0;34m:\u001b[0m\u001b[0;34m\u001b[0m\u001b[0;34m\u001b[0m\u001b[0m\n\u001b[1;32m      6\u001b[0m     \u001b[0;32mdef\u001b[0m \u001b[0mget_private_field\u001b[0m\u001b[0;34m(\u001b[0m\u001b[0mself\u001b[0m\u001b[0;34m)\u001b[0m\u001b[0;34m:\u001b[0m\u001b[0;34m\u001b[0m\u001b[0;34m\u001b[0m\u001b[0m\n\u001b[0;32m----> 7\u001b[0;31m         \u001b[0;32mreturn\u001b[0m \u001b[0mself\u001b[0m\u001b[0;34m.\u001b[0m\u001b[0m__private_field\u001b[0m\u001b[0;34m\u001b[0m\u001b[0;34m\u001b[0m\u001b[0m\n\u001b[0m\u001b[1;32m      8\u001b[0m \u001b[0;34m\u001b[0m\u001b[0m\n\u001b[1;32m      9\u001b[0m \u001b[0mbaz\u001b[0m \u001b[0;34m=\u001b[0m \u001b[0mMyChildObject\u001b[0m\u001b[0;34m(\u001b[0m\u001b[0;34m)\u001b[0m\u001b[0;34m\u001b[0m\u001b[0;34m\u001b[0m\u001b[0m\n",
      "\u001b[0;31mAttributeError\u001b[0m: 'MyChildObject' object has no attribute '_MyChildObject__private_field'"
     ]
    }
   ],
   "source": [
    "class MyParentObject:\n",
    "    def __init__(self):\n",
    "        self.__private_field = 71\n",
    "\n",
    "class MyChildObject(MyParentObject):\n",
    "    def get_private_field(self):\n",
    "        return self.__private_field\n",
    "\n",
    "baz = MyChildObject()\n",
    "baz.get_private_field()"
   ]
  },
  {
   "cell_type": "code",
   "execution_count": 10,
   "metadata": {},
   "outputs": [],
   "source": [
    "assert baz._MyParentObject__private_field==71"
   ]
  },
  {
   "cell_type": "code",
   "execution_count": 12,
   "metadata": {},
   "outputs": [
    {
     "data": {
      "text/plain": [
       "{'_MyParentObject__private_field': 71}"
      ]
     },
     "execution_count": 12,
     "metadata": {},
     "output_type": "execute_result"
    }
   ],
   "source": [
    "baz.__dict__"
   ]
  },
  {
   "cell_type": "code",
   "execution_count": 13,
   "metadata": {},
   "outputs": [
    {
     "name": "stdout",
     "output_type": "stream",
     "text": [
      "hello and hello should be different\n"
     ]
    }
   ],
   "source": [
    "#プライベート属性を使うことを考えるのはサブクラスとの名前の衝突を心配するときのみ\n",
    "class ApiClass:\n",
    "    def __init__(self):\n",
    "        self._value= 5\n",
    "\n",
    "    def get(self):\n",
    "        return self._value\n",
    "\n",
    "class Child(ApiClass):\n",
    "    def __init__(self):\n",
    "        super().__init__()\n",
    "        self._value = 'hello'\n",
    "\n",
    "a= Child()\n",
    "print(f'{a.get()} and {a._value} should be different')\n",
    "#衝突してしまう"
   ]
  },
  {
   "cell_type": "code",
   "execution_count": 15,
   "metadata": {},
   "outputs": [
    {
     "name": "stdout",
     "output_type": "stream",
     "text": [
      "5 and hello are different\n"
     ]
    }
   ],
   "source": [
    "#衝突を避けるためのプライベート属性\n",
    "class ApiClass:\n",
    "    def __init__(self):\n",
    "        self.__value=5\n",
    "\n",
    "    def get(self):\n",
    "        return self.__value\n",
    "\n",
    "class Child(ApiClass):\n",
    "    def __init__(self):\n",
    "        super().__init__()\n",
    "        self._value = 'hello'\n",
    "a = Child()\n",
    "print(f'{a.get()} and {a._value} are different')"
   ]
  },
  {
   "cell_type": "markdown",
   "metadata": {},
   "source": [
    "カスタムコンテナ型はcollections.abcを継承する"
   ]
  },
  {
   "cell_type": "code",
   "execution_count": 16,
   "metadata": {},
   "outputs": [],
   "source": [
    "#要素の頻度を数える追加メソッドを持ったカスタムリスト\n",
    "class FrequencyList(list):\n",
    "    def __init__(self, members):\n",
    "        super().__init__(members)\n",
    "\n",
    "    def frequency(self):\n",
    "        counts = {}\n",
    "        for item in self:\n",
    "            counts[item] = counts.get(item, 0)+1\n",
    "        return counts"
   ]
  },
  {
   "cell_type": "code",
   "execution_count": null,
   "metadata": {},
   "outputs": [],
   "source": []
  },
  {
   "cell_type": "code",
   "execution_count": 18,
   "metadata": {},
   "outputs": [
    {
     "name": "stdout",
     "output_type": "stream",
     "text": [
      "Length 7\n",
      "after pop ['a', 'b', 'a', 'c', 'b', 'a']\n",
      "Frequency: {'a': 3, 'b': 2, 'c': 1}\n"
     ]
    }
   ],
   "source": [
    "foo = FrequencyList(['a','b','a','c','b','a','d'])\n",
    "print('Length',len(foo))\n",
    "foo.pop()\n",
    "print('after pop', repr(foo))\n",
    "print('Frequency:',foo.frequency())"
   ]
  },
  {
   "cell_type": "code",
   "execution_count": 49,
   "metadata": {},
   "outputs": [],
   "source": [
    "#シーケンスのようにふるまわせるには__getitem__の実装を提供する\n",
    "class BinaryNode:\n",
    "    def __init__(self, value, left=None, right= None):\n",
    "        self.value = value\n",
    "        self.left = left\n",
    "        self.right = right\n",
    "\n",
    "class IndexableNode(BinaryNode):\n",
    "    def _traverse(self):\n",
    "        if self.left is not None:\n",
    "            yield from self.left._traverse()\n",
    "        yield self\n",
    "        if self.right is not None:\n",
    "            yield from self.right._traverse()\n",
    "\n",
    "    def __getitem__(self, index):\n",
    "        for i, item in enumerate(self._traverse()):\n",
    "            if i==index:\n",
    "                return item.value\n",
    "        raise IndexError(f'Index {index} is out of range')\n"
   ]
  },
  {
   "cell_type": "code",
   "execution_count": 50,
   "metadata": {},
   "outputs": [
    {
     "ename": "TypeError",
     "evalue": "Can't instantiate abstract class BadType with abstract methods __getitem__, __len__",
     "output_type": "error",
     "traceback": [
      "\u001b[0;31m---------------------------------------------------------------------------\u001b[0m",
      "\u001b[0;31mTypeError\u001b[0m                                 Traceback (most recent call last)",
      "\u001b[0;32m/tmp/ipykernel_1668066/870246886.py\u001b[0m in \u001b[0;36m<module>\u001b[0;34m\u001b[0m\n\u001b[1;32m      8\u001b[0m     \u001b[0;32mpass\u001b[0m\u001b[0;34m\u001b[0m\u001b[0;34m\u001b[0m\u001b[0m\n\u001b[1;32m      9\u001b[0m \u001b[0;34m\u001b[0m\u001b[0m\n\u001b[0;32m---> 10\u001b[0;31m \u001b[0mfoo\u001b[0m \u001b[0;34m=\u001b[0m \u001b[0mBadType\u001b[0m\u001b[0;34m(\u001b[0m\u001b[0;34m)\u001b[0m\u001b[0;34m\u001b[0m\u001b[0;34m\u001b[0m\u001b[0m\n\u001b[0m",
      "\u001b[0;31mTypeError\u001b[0m: Can't instantiate abstract class BadType with abstract methods __getitem__, __len__"
     ]
    }
   ],
   "source": [
    "#__len__を実装すると長さが返せる\n",
    "#それでもcountやindexが欠けている\n",
    "#collections.abcがコンテナ型の典型的なメソッドをすべて提供する抽象基底クラスを定義する\n",
    "\n",
    "from collections.abc import Sequence\n",
    "\n",
    "class BadType(Sequence):\n",
    "    pass\n",
    "\n",
    "foo = BadType() "
   ]
  },
  {
   "cell_type": "code",
   "execution_count": 51,
   "metadata": {},
   "outputs": [],
   "source": [
    "class SequenceNode(IndexableNode):\n",
    "    def __len__(self):\n",
    "        for count, _ in enumerate(self._traverse(), 1):\n",
    "            pass\n",
    "        return count"
   ]
  },
  {
   "cell_type": "code",
   "execution_count": 52,
   "metadata": {},
   "outputs": [],
   "source": [
    "tree = SequenceNode(\n",
    "    10,\n",
    "    left = SequenceNode(\n",
    "        5,\n",
    "        left = SequenceNode(2),\n",
    "        right = SequenceNode(6, right = SequenceNode(7))),\n",
    "    right= SequenceNode(\n",
    "        15,\n",
    "        left = SequenceNode(11)\n",
    "    )\n",
    ")"
   ]
  },
  {
   "cell_type": "code",
   "execution_count": 53,
   "metadata": {},
   "outputs": [
    {
     "data": {
      "text/plain": [
       "5"
      ]
     },
     "execution_count": 53,
     "metadata": {},
     "output_type": "execute_result"
    }
   ],
   "source": [
    "tree[1]"
   ]
  },
  {
   "cell_type": "code",
   "execution_count": 54,
   "metadata": {},
   "outputs": [
    {
     "name": "stdout",
     "output_type": "stream",
     "text": [
      "Tree length: 7\n"
     ]
    }
   ],
   "source": [
    "print('Tree length:', len(tree))"
   ]
  },
  {
   "cell_type": "code",
   "execution_count": 55,
   "metadata": {},
   "outputs": [],
   "source": [
    "class BetterNode(SequenceNode, Sequence):\n",
    "    pass\n",
    "\n",
    "tree = BetterNode(\n",
    "    10,\n",
    "    left = BetterNode(\n",
    "        5,\n",
    "        left=BetterNode(2),\n",
    "        right = BetterNode(6,\n",
    "                            right=BetterNode(7))),\n",
    "    right= BetterNode(\n",
    "        15,\n",
    "        left = BetterNode(11)\n",
    "    )\n",
    ")\n"
   ]
  },
  {
   "cell_type": "code",
   "execution_count": 56,
   "metadata": {},
   "outputs": [
    {
     "data": {
      "text/plain": [
       "5"
      ]
     },
     "execution_count": 56,
     "metadata": {},
     "output_type": "execute_result"
    }
   ],
   "source": [
    "tree[1]"
   ]
  },
  {
   "cell_type": "code",
   "execution_count": 57,
   "metadata": {},
   "outputs": [
    {
     "data": {
      "text/plain": [
       "3"
      ]
     },
     "execution_count": 57,
     "metadata": {},
     "output_type": "execute_result"
    }
   ],
   "source": [
    "tree.index(7)"
   ]
  },
  {
   "cell_type": "code",
   "execution_count": 58,
   "metadata": {},
   "outputs": [
    {
     "data": {
      "text/plain": [
       "1"
      ]
     },
     "execution_count": 58,
     "metadata": {},
     "output_type": "execute_result"
    }
   ],
   "source": [
    "tree.count(10)"
   ]
  },
  {
   "cell_type": "code",
   "execution_count": null,
   "metadata": {},
   "outputs": [],
   "source": []
  }
 ],
 "metadata": {
  "kernelspec": {
   "display_name": "Python 3.7.13 ('study_group')",
   "language": "python",
   "name": "python3"
  },
  "language_info": {
   "codemirror_mode": {
    "name": "ipython",
    "version": 3
   },
   "file_extension": ".py",
   "mimetype": "text/x-python",
   "name": "python",
   "nbconvert_exporter": "python",
   "pygments_lexer": "ipython3",
   "version": "3.7.13"
  },
  "orig_nbformat": 4,
  "vscode": {
   "interpreter": {
    "hash": "7a865c41608e708ace9ed6e40a66ff8f45d4fe73a2fce76e3bb9141e87d20f44"
   }
  }
 },
 "nbformat": 4,
 "nbformat_minor": 2
}
